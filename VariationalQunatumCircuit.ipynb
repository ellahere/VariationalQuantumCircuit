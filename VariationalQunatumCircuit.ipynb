{
  "nbformat": 4,
  "nbformat_minor": 0,
  "metadata": {
    "colab": {
      "name": "QML.ipynb",
      "provenance": [],
      "collapsed_sections": [],
      "toc_visible": true
    },
    "kernelspec": {
      "name": "python3",
      "display_name": "Python 3"
    },
    "language_info": {
      "name": "python"
    }
  },
  "cells": [
    {
      "cell_type": "markdown",
      "metadata": {
        "id": "URg9TKu0yoZI"
      },
      "source": [
        "# Screening Task 2\n",
        "The goal of this task is to train a variational circuit to map four four qubit states, of my choosing to the states $|0011\\rangle$, $|0101\\rangle$, $|1010\\rangle$ and $|1100\\rangle$.\n",
        "A variational circuit is a hybrid quantum classical model, where a quantum circuit is used to present any function and the parameters of the gates are trained and optimized classically. \n",
        "As I was new to this concept I partitioned the progess into three parts: \n",
        "* Modelling the identity function\n",
        "* Modelling a general function\n",
        "* Performance on unknown states\n",
        "For this task I use pytorch and pennylane and the training is built on the written examples at https://pennylane.ai/qml/demos/tutorial_data_reuploading_classifier.html and Training a quantum circuit with Pytorch\n",
        "\n",
        "To obtain a variational circuit we have to solve three parts:\n",
        "* We first need to transform the input and output states into a form that can be used by Pennylane\n",
        "* We need to define a loss function \n",
        "* Define the variational circuit. \n",
        "\n",
        "I first discuss the first two points and then define my first circuit.\n"
      ]
    },
    {
      "cell_type": "markdown",
      "metadata": {
        "id": "1t0R_OV-yaep"
      },
      "source": [
        "## Preparing the states and defining a loss function\n",
        "The output states are written in the braket notation, e.g. the state $|0011\\rangle$ has values zero on the first two qubits and 1 on the last two. The actual Hilbert space is however represented by a basis of $2^n$ vectors.\n",
        "For my loss function it is advantageous to get the representation of input and output states in this basis. \n",
        "For this I can create a quantum circuit that "
      ]
    },
    {
      "cell_type": "code",
      "metadata": {
        "id": "kcryLsxmTJoZ"
      },
      "source": [
        "# Install pennylane. Uncomment if not yet installed.\n",
        "# !pip install pennylane"
      ],
      "execution_count": 1,
      "outputs": []
    },
    {
      "cell_type": "code",
      "metadata": {
        "id": "4I0PjwSm1ST2"
      },
      "source": [
        "# Import modules\n",
        "import pennylane as qml\n",
        "import numpy as np\n",
        "import torch\n",
        "from torch.autograd import Variable\n",
        "import matplotlib.pyplot as plt\n",
        "\n",
        "# Set constants\n",
        "n_qubits = 4\n",
        "output_ket = np.array([[ 0, 0, 1, 1], [0, 1, 0, 1],\n",
        "                        [1, 0, 1, 0], [1, 1, 0, 0]])\n",
        "\n",
        "def input_layer(input_params):\n",
        "  \"\"\"\n",
        "    Simple X, Y, Z layer that can create the input.\n",
        "\n",
        "    Args:\n",
        "        input_params (array[float]): 2-D array of angles for each qubit \n",
        "        \n",
        "    Returns:\n",
        "        None\n",
        "    \"\"\"\n",
        "  for i in range(n_qubits):\n",
        "    qml.RX(input_params[i, 0], wires=i)\n",
        "    qml.RY(input_params[i, 1], wires=i)\n",
        "    qml.RZ(input_params[i, 2], wires=i)\n",
        "\n",
        "# Create output circuit\n",
        "output_dev = qml.device(\"default.qubit\", wires=4)\n",
        "@qml.qnode(output_dev, interface=\"torch\")\n",
        "def states(ket):\n",
        "  \"\"\"Calculates the state and density matrix from braket notation.\n",
        "\n",
        "    Args:\n",
        "        ket (array[complex]): quantum state in braket representation\n",
        "\n",
        "    Returns:\n",
        "        state: \n",
        "    \"\"\"\n",
        "  output_params = np.zeros((n_qubits, 3))\n",
        "  output_params[:, 1] = np.pi*ket\n",
        "  input_layer(output_params)\n",
        "  # Create state and density matrix\n",
        "  return qml.state()\n",
        "\n",
        "\n",
        "# Find all output states and the correspoding density matrices\n",
        "output_states = [np.array(states(ket)).reshape(1, -1) for ket in output_ket]\n",
        "output_matrices = [np.conj(state).T@state for state in output_states]"
      ],
      "execution_count": 2,
      "outputs": []
    },
    {
      "cell_type": "markdown",
      "metadata": {
        "id": "llhSt1PZJx9X"
      },
      "source": [
        "### Loss function and general circuit\n",
        "My loss function should reward if the output state is close to the expected one. For this reason I use the fidelity, which compares the density matrix of the output of the circuit and the expcted density matrix. \n",
        "This measure would not be applicable in real Quantum Computers though. \n",
        "Alternatively, we could measure the expectation value of PauliZ, PauliY and PauliX gates for every qubit seperately and compare these values to the expected ones.\n",
        "\n",
        "I also create a general form of a circuit, that takes the function of the layers as parameters and outputs the fidelity of two states. \n",
        "Lastly, I define a training with pytorch and some visualization of the losses.\n",
        "\n"
      ]
    },
    {
      "cell_type": "code",
      "metadata": {
        "id": "9I83vrQWUSof"
      },
      "source": [
        "# Loss function\n",
        "def loss_fn(params, layer_func, input_params, n_layers):\n",
        "  \"\"\"Cost function to be minimized.\n",
        "\n",
        "    Args:\n",
        "        params (array[float]): array of parameters\n",
        "        layer_func (function): function that returns a circuit layer\n",
        "        input_params (array[float]): 2D array of angles for creating input\n",
        "        n_layers (int): number of layers included in circuit\n",
        "\n",
        "\n",
        "    Returns:\n",
        "        float: loss value to be minimized\n",
        "  \"\"\"\n",
        "  loss = 0\n",
        "  for j in range(4):\n",
        "    fidelity = circuit(params, input_params[j], output_matrices[j], \n",
        "                       layer_func, n_layers)\n",
        "    loss += (1-fidelity)**2\n",
        "  return loss\n",
        "\n",
        "\n",
        "# General circuit\n",
        "dev = qml.device(\"default.qubit\", wires=4)\n",
        "@qml.qnode(dev, interface=\"torch\")\n",
        "def circuit(params, input_params, output_matrix, layer_func, n_layers):\n",
        "  \"\"\"Cost function to be minimized.\n",
        "\n",
        "    Args:\n",
        "        params (tensor[float]): autodifferentiable tensor of parameters\n",
        "        input_params (array[float]): array of input parameters\n",
        "        output_state (array[float]): density matrix of output state\n",
        "        layer_func (function): function that returns a circuit layer\n",
        "        n_layers (int): number of layers\n",
        "\n",
        "    Returns:\n",
        "        float: fidelity between output and expected output \n",
        "  \"\"\"\n",
        "\n",
        "  # Generate the input state\n",
        "  input_layer(input_params)\n",
        "  # repeatedly apply each layer in the circuit\n",
        "  for j in range(n_layers):\n",
        "      layer_func(params[j])\n",
        "  # Return fidelity of output and expected output\n",
        "  return qml.expval(qml.Hermitian(output_matrix, wires=[0, 1, 2, 3]))\n",
        "\n",
        "\n",
        "\n",
        "def training(steps, n_layers, layer_func, params, input_params):\n",
        "  \"\"\"Training .\n",
        "\n",
        "    Args:\n",
        "        steps (int): number of optimization steps\n",
        "        n_layers(int): number of layers\n",
        "        layer_func (function): returns a single layer\n",
        "        params (tensor[float]): autodifferentiable tensor of parameters\n",
        "        input_params (array[float]): array of input parameters\n",
        "    Returns:\n",
        "        all_costs (array[float]): array of losses for all steps\n",
        "        best_params (tensor):     tensor of parameters that minimize the loss\n",
        "        params (tensor):          params of the last step\n",
        "  \"\"\"\n",
        "  # set up the optimizer\n",
        "  opt = torch.optim.Adam([params], lr=0.03)\n",
        "  # the best parameters along the way\n",
        "  best_cost = loss_fn(params, layer_func, input_params, n_layers)\n",
        "  best_params = np.zeros((n_layers, n_qubits, 3))\n",
        "  all_costs = []\n",
        "  # optimization begins\n",
        "  for n in range(steps):\n",
        "      opt.zero_grad()\n",
        "      loss = loss_fn(params, layer_func, input_params, n_layers)\n",
        "      loss.backward()\n",
        "      opt.step()\n",
        "      all_costs.append(loss)\n",
        "      # keeps track of best parameters\n",
        "      if loss < best_cost:\n",
        "          best_cost = loss\n",
        "          best_params = params\n",
        "  return all_costs, best_params, params\n",
        "\n",
        "\n",
        "def plot_results(losses, best_params, title):\n",
        "  \"\"\"Plot the losses and print the best params in units of pi.\n",
        "\n",
        "  \"\"\"\n",
        "  # Plot the cost and print best parameters\n",
        "  plt.title(title)\n",
        "  plt.ylabel(\"Cost\")\n",
        "  plt.xlabel(\"Steps\")\n",
        "  plt.plot(losses)\n",
        "  plt.yscale('log')\n",
        "  plt.show()\n",
        "  print(\"Best parameters\", best_params/np.pi, \"Minimal Loss:\", min(losses))"
      ],
      "execution_count": 3,
      "outputs": []
    },
    {
      "cell_type": "markdown",
      "metadata": {
        "id": "R_5iVKKwXW_f"
      },
      "source": [
        "### Define layer functions\n",
        "First we look at a layer consisting only of single qubit X rotations. This can be used to benchmark and see whether we get the expected results. \n",
        "Secondly, we define a full layer with X, Y, Z rotations and CNOT gates.\n",
        "CNOT are multiqubits gates that can entangle different qubits. Although, I don't want to use entangled input states, their appearance in the circuit is crucial.\n",
        "To see this we can consider the case that $|0000\\rangle$ should be mapped to $|000\\rangle$ and $|0100\\rangle$ to $|1000\\rangle$. In this case the first qubit is the same for both inputs but needs to be flipped depending on the second one. This shows that to represent a general function qubits need to be able share information."
      ]
    },
    {
      "cell_type": "code",
      "metadata": {
        "id": "kMlp-YXpXh6_"
      },
      "source": [
        "\n",
        "def layer_x(layer_params):\n",
        "  \"\"\"Create single layer consisting RX acting on all qubits.\n",
        "\n",
        "  Args:\n",
        "      layer_params (tensor[float]): autodifferentiable tensor of parameters\n",
        "\n",
        "  \"\"\"\n",
        "  for i in range(4):\n",
        "    qml.RX(layer_params[i], wires=i)\n",
        "\n",
        "def full_layer(layer_params):\n",
        "  for i in range(4):\n",
        "    qml.RX(layer_params[i, 0], wires=i)\n",
        "    qml.RY(layer_params[i, 1], wires=i)\n",
        "    qml.RZ(layer_params[i, 2], wires=i)\n",
        "  qml.CNOT(wires=[0, 1])\n",
        "  qml.CNOT(wires=[0, 2])\n",
        "  qml.CNOT(wires=[0, 3])\n",
        "  qml.CNOT(wires=[1, 2])\n",
        "  qml.CNOT(wires=[1, 3])\n",
        "  qml.CNOT(wires=[2, 3])\n",
        "\n"
      ],
      "execution_count": 4,
      "outputs": []
    },
    {
      "cell_type": "markdown",
      "metadata": {
        "id": "DwSzT6zXN6rT"
      },
      "source": [
        "# Results\n",
        "We now check the performance of the algorithm in five cases:\n",
        "* input states == output states for single X layer\n",
        "* input states == rotated output states with rotation around X and X layer\n",
        "* input states == rotated output states with rotation around Y with X layer\n",
        "* input states == permuted output states with X layer\n",
        "* input states == permuted output states with full layer"
      ]
    },
    {
      "cell_type": "code",
      "metadata": {
        "id": "OCxMiMCkN40H"
      },
      "source": [
        "### Prepare input states\n",
        "# Input parameters for identity\n",
        "state_input_identity = []\n",
        "for i in range(4):\n",
        "  input_params = np.zeros((n_qubits, 3))\n",
        "  input_params[:, 1] = np.pi*output_ket[i]\n",
        "  state_input_identity.append(input_params)\n",
        "# Input parameters if rotated by pi/2 around x\n",
        "state_input_rotationx = []\n",
        "for input in state_input_identity:\n",
        "  rotation_x = np.zeros((4, 3))\n",
        "  rotation_x[:, 0] = 4 * [np.pi/2]\n",
        "  state_input_rotationx.append(input+rotation_x)\n",
        "# Input parameters if rotated by pi/2 around x\n",
        "state_input_rotationy = []\n",
        "for input in state_input_identity:\n",
        "  rotation_y = np.zeros((4, 3))\n",
        "  rotation_y[:, 1] = 4 * [np.pi/2]\n",
        "  state_input_rotationy.append(input+rotation_y)\n",
        "# Permutted input\n",
        "permuted_state_input = state_input_identity[2:]\n",
        "permuted_state_input.append(state_input_identity[1])\n",
        "permuted_state_input.append(state_input_identity[0])\n",
        "\n",
        "### Initialize parameters randomly from a normal distribution\n",
        "# Single x layer\n",
        "init_params_singlex = np.random.normal(0, np.pi, (1, n_qubits))\n",
        "init_params_singlex = Variable(torch.tensor(init_params_singlex), requires_grad=True) \n",
        "\n",
        "# Full layer\n",
        "n_layers = 5\n",
        "init_params_full = np.random.normal(0, np.pi, (n_layers, n_qubits, 3))\n",
        "init_params_full = Variable(torch.tensor(init_params_full), requires_grad=True) \n"
      ],
      "execution_count": 5,
      "outputs": []
    },
    {
      "cell_type": "code",
      "metadata": {
        "colab": {
          "base_uri": "https://localhost:8080/"
        },
        "id": "1NF2o-DKqQks",
        "outputId": "613a7d16-60f0-4286-c7c5-7e4a96beaefa"
      },
      "source": [
        "all_costs_identity, best_params_identity, params_identity = training(100, 1, layer_x, init_params_singlex, state_input_identity)\n",
        "all_costs_rotationx, best_params_rotationx, params_rotationx = training(500, 1, layer_x, init_params_singlex, state_input_rotationx)\n",
        "all_costs_rotationy, best_params_rotationy, params_rotationy = training(100, 1, layer_x, init_params_singlex, state_input_rotationy)\n",
        "all_costs_permuted, best_params_permuted, params_permuted = training(100, 1, layer_x, init_params_singlex, permuted_state_input)\n",
        "all_costs_full, best_params_full, params_full = training(500, 5, full_layer, init_params_full, permuted_state_input)"
      ],
      "execution_count": 6,
      "outputs": [
        {
          "output_type": "stream",
          "name": "stderr",
          "text": [
            "/usr/local/lib/python3.7/dist-packages/torch/autograd/__init__.py:149: UserWarning: Casting complex values to real discards the imaginary part (Triggered internally at  /pytorch/aten/src/ATen/native/Copy.cpp:240.)\n",
            "  allow_unreachable=True, accumulate_grad=True)  # allow_unreachable flag\n"
          ]
        }
      ]
    },
    {
      "cell_type": "markdown",
      "metadata": {
        "id": "cy9ywjRJ6QMc"
      },
      "source": [
        "## Single layer: Identity and rotations\n",
        "I first look at the results for the single layer. \n",
        "The loss for the identity function goes well to zero and the best selected parameters are close to zero or 2 $\\pi$ as expected.\n",
        "\n",
        "\n",
        "\n",
        "\n"
      ]
    },
    {
      "cell_type": "code",
      "metadata": {
        "colab": {
          "base_uri": "https://localhost:8080/",
          "height": 332
        },
        "id": "wqrg7oOKr7eY",
        "outputId": "078a5296-12d6-4cb9-af55-789d6fdce97d"
      },
      "source": [
        "plot_results(all_costs_identity, best_params_identity, \"Identity Function\")"
      ],
      "execution_count": 7,
      "outputs": [
        {
          "output_type": "display_data",
          "data": {
            "image/png": "[encoded data removed]",
            "text/plain": [
              "<Figure size 432x288 with 1 Axes>"
            ]
          },
          "metadata": {
            "needs_background": "light"
          }
        },
        {
          "output_type": "stream",
          "name": "stdout",
          "text": [
            "Best parameters tensor([[ 0.9528, -0.0064, -0.0013, -0.9529]], dtype=torch.float64,\n",
            "       grad_fn=<DivBackward0>) Minimal Loss: tensor(0.0313, dtype=torch.float64, grad_fn=<AddBackward0>)\n"
          ]
        }
      ]
    },
    {
      "cell_type": "markdown",
      "metadata": {
        "id": "4rv5XEC5CNO8"
      },
      "source": [
        "### X Rotation\n",
        "Next I included the X rotation. The resulting error first falls, but then stops at around 3. This is not expected at all as the algorithm should be able to learn to apply the same rotation to the X gates. To me this indicates that unfortunatey there is still an error present."
      ]
    },
    {
      "cell_type": "code",
      "metadata": {
        "colab": {
          "base_uri": "https://localhost:8080/",
          "height": 368
        },
        "id": "eQV8RiO86xc8",
        "outputId": "e7db5013-1cbf-42e3-e80f-e5a0fce20cb4"
      },
      "source": [
        "plot_results(all_costs_rotationx, best_params_rotationx, \"X Rotation\")\n",
        "print(init_params_singlex)"
      ],
      "execution_count": 8,
      "outputs": [
        {
          "output_type": "display_data",
          "data": {
            "image/png": "[encoded data removed]",
            "text/plain": [
              "<Figure size 432x288 with 1 Axes>"
            ]
          },
          "metadata": {
            "needs_background": "light"
          }
        },
        {
          "output_type": "stream",
          "name": "stdout",
          "text": [
            "Best parameters tensor([[ 0.9528, -0.0064, -0.0013, -0.9529]], dtype=torch.float64,\n",
            "       grad_fn=<DivBackward0>) Minimal Loss: tensor(3.0000, dtype=torch.float64, grad_fn=<AddBackward0>)\n",
            "tensor([[ 2.9934, -0.0200, -0.0042, -2.9937]], dtype=torch.float64,\n",
            "       requires_grad=True)\n"
          ]
        }
      ]
    },
    {
      "cell_type": "markdown",
      "metadata": {
        "id": "4B6U7EKZCU5c"
      },
      "source": [
        "### Y Rotation\n",
        "If all input qubits are rotated around the y axis, then the error remains constant. This is what I had expected as rotation around Y is orthogonal to rotations around X. This means that we never could reach the expected state."
      ]
    },
    {
      "cell_type": "code",
      "metadata": {
        "colab": {
          "base_uri": "https://localhost:8080/",
          "height": 368
        },
        "id": "fTYJ_qpl6_ZT",
        "outputId": "e5f9c752-9b5d-4601-ffcd-e75ea332ef03"
      },
      "source": [
        "plot_results(all_costs_rotationy, best_params_rotationy, \"Y Rotation\")"
      ],
      "execution_count": 9,
      "outputs": [
        {
          "output_type": "display_data",
          "data": {
            "image/png": "[encoded data removed]",
            "text/plain": [
              "<Figure size 432x288 with 1 Axes>"
            ]
          },
          "metadata": {
            "needs_background": "light"
          }
        },
        {
          "output_type": "stream",
          "name": "stdout",
          "text": [
            "Best parameters [[[0. 0. 0.]\n",
            "  [0. 0. 0.]\n",
            "  [0. 0. 0.]\n",
            "  [0. 0. 0.]]] Minimal Loss: tensor(3.5156, dtype=torch.float64, grad_fn=<AddBackward0>)\n"
          ]
        }
      ]
    },
    {
      "cell_type": "markdown",
      "metadata": {
        "id": "3W8UVhEYCtqH"
      },
      "source": [
        "### Permutation\n",
        "Here we looked at states that are permuted with again only one X layer. \n",
        "The error falls for the first few steps, but then remains constant. This is explained from the fact that by the chosen permutation there is no solution of choosing the X angles of the qubits such that all states would be correctly matched. Instead the algorithm just compromises on the closest solution. "
      ]
    },
    {
      "cell_type": "code",
      "metadata": {
        "colab": {
          "base_uri": "https://localhost:8080/",
          "height": 332
        },
        "id": "a8sX6OSq-j4F",
        "outputId": "0681ea11-6278-4e64-e763-7205ee541d52"
      },
      "source": [
        "plot_results(all_costs_permuted, best_params_permuted, \"Permuted Input states\")"
      ],
      "execution_count": 10,
      "outputs": [
        {
          "output_type": "display_data",
          "data": {
            "image/png": "[encoded data removed]",
            "text/plain": [
              "<Figure size 432x288 with 1 Axes>"
            ]
          },
          "metadata": {
            "needs_background": "light"
          }
        },
        {
          "output_type": "stream",
          "name": "stdout",
          "text": [
            "Best parameters tensor([[ 0.9528, -0.0064, -0.0013, -0.9529]], dtype=torch.float64,\n",
            "       grad_fn=<DivBackward0>) Minimal Loss: tensor(2.0002, dtype=torch.float64, grad_fn=<AddBackward0>)\n"
          ]
        }
      ]
    },
    {
      "cell_type": "markdown",
      "metadata": {
        "id": "x2NWoyaaDSGQ"
      },
      "source": [
        "### Full Quantum Circuit\n",
        "Lastly, we finally arrive at a full quantum circuit. We clearly see that with the number of steps increasing also the number the cost value goes down. \n",
        "The variational circuit performs better if more layers are given to the circuit."
      ]
    },
    {
      "cell_type": "code",
      "metadata": {
        "colab": {
          "base_uri": "https://localhost:8080/",
          "height": 754
        },
        "id": "khz6jyoN-jro",
        "outputId": "40c28803-6e80-440c-ec8f-179b66d7e41a"
      },
      "source": [
        "plot_results(all_costs_full, best_params_full, \"Full Variational Quantum Circuit\")"
      ],
      "execution_count": 11,
      "outputs": [
        {
          "output_type": "display_data",
          "data": {
            "image/png": "[encoded data removed]",
            "text/plain": [
              "<Figure size 432x288 with 1 Axes>"
            ]
          },
          "metadata": {
            "needs_background": "light"
          }
        },
        {
          "output_type": "stream",
          "name": "stdout",
          "text": [
            "Best parameters tensor([[[-8.2941e-01, -7.9946e-01,  1.4695e+00],\n",
            "         [ 1.5396e+00, -4.8383e-01,  4.6019e-01],\n",
            "         [ 6.1034e-02,  5.0038e-01, -1.9390e+00],\n",
            "         [-9.0971e-01, -9.4143e-02, -7.5007e-01]],\n",
            "\n",
            "        [[-4.9411e-01, -6.9668e-01, -7.7655e-01],\n",
            "         [ 9.7023e-02, -5.0176e-01,  1.0952e+00],\n",
            "         [ 5.3449e-01, -4.9955e-01,  9.6564e-01],\n",
            "         [-6.2632e-02, -9.3883e-01, -4.9998e-01]],\n",
            "\n",
            "        [[-4.9977e-01, -2.2290e+00,  1.5420e+00],\n",
            "         [-6.8281e-01, -2.2237e+00, -8.6435e-01],\n",
            "         [ 1.0067e+00,  2.1797e-03,  1.6726e+00],\n",
            "         [-9.9628e-02, -3.3065e-01, -9.6675e-01]],\n",
            "\n",
            "        [[-1.5031e+00, -1.2164e+00,  2.5071e+00],\n",
            "         [-1.0005e+00,  1.0001e+00, -1.8386e-02],\n",
            "         [-6.9033e-01,  2.8691e-04, -2.0011e+00],\n",
            "         [-1.9272e-02,  1.2209e+00, -5.0024e-01]],\n",
            "\n",
            "        [[-1.3330e+00,  5.1056e-01, -6.7885e-01],\n",
            "         [ 8.2648e-01, -4.9938e-01, -4.1229e-01],\n",
            "         [-3.0970e-01, -9.9998e-01, -1.3025e+00],\n",
            "         [ 6.6563e-02,  1.4937e+00,  1.1383e+00]]], dtype=torch.float64,\n",
            "       grad_fn=<DivBackward0>) Minimal Loss: tensor(1.9424e-06, dtype=torch.float64, grad_fn=<AddBackward0>)\n"
          ]
        }
      ]
    },
    {
      "cell_type": "markdown",
      "metadata": {
        "id": "DCM14emaQFzF"
      },
      "source": [
        "# Discussion\n",
        "\n"
      ]
    },
    {
      "cell_type": "markdown",
      "metadata": {
        "id": "BWnbIRkuE9-g"
      },
      "source": [
        "## Critical Discussion\n",
        "After completing this task I am left with two main worries: \n",
        "\n",
        "*X Rotation* \n",
        " I can't at the moment explain why my single layer is not able to correctly approximate the rotated input state. \n",
        "\n",
        "*Practical Feasability* I had chosen to base my loss function on the fidelity after thinking for a long time how we can actually distinguish between quantum states. However, there are some downsides to that. First of all taking the expectation value of the Hermitian of the output might actually mean taking this as an input and therefore totally misunderstanding the task. Secondly, I am not yet aware how one would actually measure the \"overlap\" of density matrices in actual quantum computers. \n",
        "An older version of this program had used the x, y, z expectation values for all qubits as input and compared this to the loss function. Numerically this performed very well. Additionally, it should also be easier to implement in a real setting. "
      ]
    },
    {
      "cell_type": "markdown",
      "metadata": {
        "id": "tGo-eAiQE4Mt"
      },
      "source": [
        "## Unknown states\n",
        "Once the variational circuit is trained it should be able to well categorize the four quantum states. \n",
        "What now happens if it is presented with an unknown state ? \n",
        "As our problem is quantum mechanical I can assume that if the new state is a superposition of already trained states, then also the output is a superposition.\n",
        "Furthermore, as we had seen in the permutations with single layer, the network will predict the state that is closest to the expected outcome."
      ]
    },
    {
      "cell_type": "markdown",
      "metadata": {
        "id": "IdxBwa3rIJ2N"
      },
      "source": [
        "### Acknowledgments\n",
        "Thanks for inviting me to do this screening task. I thoroughly enjoyed it and it actually really surprised in how many questions it made me ask and research, reigniting the joy of thinking and trying to understand. "
      ]
    }
  ]
}